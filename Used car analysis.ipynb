{
 "cells": [
  {
   "cell_type": "code",
   "execution_count": 1,
   "id": "10a7e5e5-7641-4fbd-be14-fbd7153c6a8c",
   "metadata": {},
   "outputs": [],
   "source": [
    "import json\n",
    "import pickle\n",
    "import re\n",
    "import time\n",
    "\n",
    "from bs4 import BeautifulSoup\n",
    "from urllib.request import Request, urlopen\n",
    "import pandas as pd\n",
    "import matplotlib.pyplot as plt\n",
    "import numpy as np\n",
    "from scipy.stats import pearsonr, spearmanr"
   ]
  },
  {
   "cell_type": "markdown",
   "id": "18748d10-8a8e-44d9-aea9-e690914bb658",
   "metadata": {},
   "source": [
    "# Collecting HTML pages"
   ]
  },
  {
   "cell_type": "code",
   "execution_count": 164,
   "id": "7d5c7880-69c2-4a9d-83d2-470eaed26f4f",
   "metadata": {},
   "outputs": [],
   "source": [
    "headers = {'User-Agent': \"Mozilla/5.0 (Linux; SM-G955U Build/R16NW) AppleWebKit/537.36 (KHTML, like Gecko) Chrome/116.0.0.0\"}"
   ]
  },
  {
   "cell_type": "code",
   "execution_count": null,
   "id": "b083340e-aab1-4913-801f-1ba1e11b9ade",
   "metadata": {},
   "outputs": [],
   "source": [
    "i = 1\n",
    "while i > 0:\n",
    "    url = f\"https://www.mudah.my/malaysia/cars-for-sale/honda?o={i}\"\n",
    "    req = Request(url, headers=headers)\n",
    "    res = urlopen(req).read()\n",
    "    soup = BeautifulSoup(res, \"html.parser\")\n",
    "    regex = re.compile('listing-ad-item.*')\n",
    "    car_list = soup.find_all('div', {'data-testid' : regex})\n",
    "    \n",
    "    if len(car_list) > 0:\n",
    "        f = open(f\"page_{i}.html\", \"w\", encoding=\"utf-8\")\n",
    "        f.write(str(soup))\n",
    "        f.close()\n",
    "        print(f\"page {i} is saved; count: {len(car_list)}\")\n",
    "    else:\n",
    "        break\n",
    "    i += 1\n",
    "    time.sleep(10)"
   ]
  },
  {
   "cell_type": "markdown",
   "id": "9761d6c4-c9d4-4a6d-b188-09672f3b70a2",
   "metadata": {},
   "source": [
    "# Data scraping from HTML pages"
   ]
  },
  {
   "cell_type": "code",
   "execution_count": 2,
   "id": "ff1c3efa-75d0-4182-bda1-2e96980ec503",
   "metadata": {},
   "outputs": [],
   "source": [
    "def get_year(car_soup):\n",
    "    content = car_soup.find('div', {'title' : 'Manufactured Year'})\n",
    "    if content:\n",
    "        year = content.find(\"div\").text\n",
    "        return year\n",
    "    content = car_soup.find('div', {'data-testid' : 'year-verified-badge'})\n",
    "    if content:\n",
    "        year = content.find(\"div\").text\n",
    "        return year\n",
    "    return np.nan\n",
    "\n",
    "def get_mileage(car_soup):\n",
    "    try:\n",
    "        mileage = car_soup.find('div', {'title' : 'Mileage'})\n",
    "        m = mileage.find(\"div\").text\n",
    "        return m\n",
    "    except:\n",
    "        return np.nan\n",
    "\n",
    "def get_name(car_soup):\n",
    "    name = car_soup.find('a')\n",
    "    if name:\n",
    "        return name['title']\n",
    "    return np.nan\n",
    "\n",
    "def get_url(car_soup):\n",
    "    name = car_soup.find('a')\n",
    "    if name:\n",
    "        return name['href']\n",
    "    return np.nan\n",
    "\n",
    "def get_location(car_soup):\n",
    "    c = car_soup.find('span', {'title' : 'Region'})\n",
    "    if c:\n",
    "        r = c.find(\"span\")\n",
    "        return r.text\n",
    "    return np.nan"
   ]
  },
  {
   "cell_type": "code",
   "execution_count": 3,
   "id": "df2df6ed-7709-4c29-8087-84d6888e36f7",
   "metadata": {},
   "outputs": [],
   "source": [
    "data = []\n",
    "car_regex = re.compile('listing-ad-item.*')\n",
    "\n",
    "for page in range(1, 101):\n",
    "    html_file = open(f\"html_pages/page_{page}.html\", \"r\", encoding=\"utf-8\")\n",
    "    html_value = html_file.read()\n",
    "    soup = BeautifulSoup(html_value, \"html.parser\")\n",
    "    \n",
    "    car_soup_1 = soup.find_all('div', {'data-testid' : car_regex})\n",
    "    car_soup_2 = soup.find('script', {'type' : 'application/ld+json'})\n",
    "    cars_json = json.loads(car_soup_2.text)\n",
    "    car_list = cars_json[2]['itemListElement']\n",
    "\n",
    "    assert len(car_soup_1) == cars_json[2]['numberOfItems']\n",
    "\n",
    "    for i in range(len(car_soup_1)):\n",
    "        url = get_url(car_soup_1[i])\n",
    "        assert url == car_list[i]['item']['url']\n",
    "        \n",
    "        year = get_year(car_soup_1[i])\n",
    "        mileage = get_mileage(car_soup_1[i])\n",
    "        price = car_list[i]['item']['offers']['price']\n",
    "        name = get_name(car_soup_1[i])\n",
    "        loc = get_location(car_soup_1[i])\n",
    "        url = get_url(car_soup_1[i])\n",
    "\n",
    "        row = {\n",
    "            \"year\": year,\n",
    "            \"name\": name,\n",
    "            \"price\": price,\n",
    "            \"mileage\": mileage,\n",
    "            \"location\": loc,\n",
    "            \"page\": page,\n",
    "            \"url\": url,\n",
    "        }\n",
    "        data.append(row)\n",
    "\n",
    "df = pd.DataFrame(data)\n",
    "convert_dict = {'year': int, 'price': float}\n",
    "df = df.astype(convert_dict)"
   ]
  },
  {
   "cell_type": "code",
   "execution_count": 4,
   "id": "8aa7b1b1-61bf-4c73-9b62-211a660f880e",
   "metadata": {},
   "outputs": [
    {
     "data": {
      "text/html": [
       "<div>\n",
       "<style scoped>\n",
       "    .dataframe tbody tr th:only-of-type {\n",
       "        vertical-align: middle;\n",
       "    }\n",
       "\n",
       "    .dataframe tbody tr th {\n",
       "        vertical-align: top;\n",
       "    }\n",
       "\n",
       "    .dataframe thead th {\n",
       "        text-align: right;\n",
       "    }\n",
       "</style>\n",
       "<table border=\"1\" class=\"dataframe\">\n",
       "  <thead>\n",
       "    <tr style=\"text-align: right;\">\n",
       "      <th></th>\n",
       "      <th>year</th>\n",
       "      <th>name</th>\n",
       "      <th>price</th>\n",
       "      <th>mileage</th>\n",
       "      <th>location</th>\n",
       "      <th>page</th>\n",
       "      <th>url</th>\n",
       "    </tr>\n",
       "  </thead>\n",
       "  <tbody>\n",
       "    <tr>\n",
       "      <th>0</th>\n",
       "      <td>2023</td>\n",
       "      <td>2023 Honda CIVIC 2.0 TYPE R MY23 FL5 (M)</td>\n",
       "      <td>298000.0</td>\n",
       "      <td>10000 - 14999</td>\n",
       "      <td>Kuala Lumpur</td>\n",
       "      <td>1</td>\n",
       "      <td>https://www.mudah.my/2023-honda-civic-2-0-type...</td>\n",
       "    </tr>\n",
       "    <tr>\n",
       "      <th>1</th>\n",
       "      <td>2014</td>\n",
       "      <td>2014 Honda CITY 1.5 E FACELIFT (A) FULL ACCESSORY</td>\n",
       "      <td>33900.0</td>\n",
       "      <td>90000 - 94999</td>\n",
       "      <td>Penang</td>\n",
       "      <td>1</td>\n",
       "      <td>https://www.mudah.my/2014-honda-city-1-5-e-fac...</td>\n",
       "    </tr>\n",
       "    <tr>\n",
       "      <th>2</th>\n",
       "      <td>2019</td>\n",
       "      <td>2019 Honda CITY 1.5 (A) PRICE CORET UNTUNG 1K JA</td>\n",
       "      <td>49900.0</td>\n",
       "      <td>60000 - 64999</td>\n",
       "      <td>Penang</td>\n",
       "      <td>1</td>\n",
       "      <td>https://www.mudah.my/2019-honda-city-1-5-a-pri...</td>\n",
       "    </tr>\n",
       "    <tr>\n",
       "      <th>3</th>\n",
       "      <td>2015</td>\n",
       "      <td>2015 Honda HR-V 1.8 V (A) KEYLESS PUSHSTART F/...</td>\n",
       "      <td>41800.0</td>\n",
       "      <td>130000 - 139999</td>\n",
       "      <td>Kuala Lumpur</td>\n",
       "      <td>1</td>\n",
       "      <td>https://www.mudah.my/2015-honda-hr-v-1-8-v-a-k...</td>\n",
       "    </tr>\n",
       "    <tr>\n",
       "      <th>4</th>\n",
       "      <td>2018</td>\n",
       "      <td>2018 Honda CITY 1.5 HYB (A) 3YRS WARRANTY H/LOAN</td>\n",
       "      <td>45999.0</td>\n",
       "      <td>55000 - 59999</td>\n",
       "      <td>Johor</td>\n",
       "      <td>1</td>\n",
       "      <td>https://www.mudah.my/2018-honda-city-1-5-hyb-a...</td>\n",
       "    </tr>\n",
       "  </tbody>\n",
       "</table>\n",
       "</div>"
      ],
      "text/plain": [
       "   year                                               name     price  \\\n",
       "0  2023           2023 Honda CIVIC 2.0 TYPE R MY23 FL5 (M)  298000.0   \n",
       "1  2014  2014 Honda CITY 1.5 E FACELIFT (A) FULL ACCESSORY   33900.0   \n",
       "2  2019   2019 Honda CITY 1.5 (A) PRICE CORET UNTUNG 1K JA   49900.0   \n",
       "3  2015  2015 Honda HR-V 1.8 V (A) KEYLESS PUSHSTART F/...   41800.0   \n",
       "4  2018   2018 Honda CITY 1.5 HYB (A) 3YRS WARRANTY H/LOAN   45999.0   \n",
       "\n",
       "           mileage      location  page  \\\n",
       "0    10000 - 14999  Kuala Lumpur     1   \n",
       "1    90000 - 94999        Penang     1   \n",
       "2    60000 - 64999        Penang     1   \n",
       "3  130000 - 139999  Kuala Lumpur     1   \n",
       "4    55000 - 59999         Johor     1   \n",
       "\n",
       "                                                 url  \n",
       "0  https://www.mudah.my/2023-honda-civic-2-0-type...  \n",
       "1  https://www.mudah.my/2014-honda-city-1-5-e-fac...  \n",
       "2  https://www.mudah.my/2019-honda-city-1-5-a-pri...  \n",
       "3  https://www.mudah.my/2015-honda-hr-v-1-8-v-a-k...  \n",
       "4  https://www.mudah.my/2018-honda-city-1-5-hyb-a...  "
      ]
     },
     "execution_count": 4,
     "metadata": {},
     "output_type": "execute_result"
    }
   ],
   "source": [
    "df.head()"
   ]
  },
  {
   "cell_type": "code",
   "execution_count": 5,
   "id": "3e20e04a-31cd-4d6c-9fc1-3c7a98296e6e",
   "metadata": {},
   "outputs": [
    {
     "data": {
      "text/plain": [
       "4000"
      ]
     },
     "execution_count": 5,
     "metadata": {},
     "output_type": "execute_result"
    }
   ],
   "source": [
    "len(df)"
   ]
  },
  {
   "cell_type": "markdown",
   "id": "8c85a550-33ef-4fa5-b1d1-75664fecd8c4",
   "metadata": {},
   "source": [
    "# Data preprocessing"
   ]
  },
  {
   "cell_type": "code",
   "execution_count": 8,
   "id": "7ea0ec44-b455-4f7f-a606-3a24474e9f36",
   "metadata": {},
   "outputs": [],
   "source": [
    "# collect a list of car models\n",
    "html_file = open(\"html_pages/page_1.html\", \"r\", encoding=\"utf-8\")\n",
    "html_value = html_file.read()\n",
    "soup = BeautifulSoup(html_value, \"html.parser\")\n",
    "models_soup = soup.find('ul', {'data-testid' : 'model_id-filter-dropdown'})\n",
    "models_soup = models_soup.find_all('li')\n",
    "models = []\n",
    "\n",
    "for i in range(1, len(models_soup)):\n",
    "    models.append(models_soup[i].text)\n",
    "\n",
    "models.remove(\"E\")\n",
    "models.remove(\"Z\")"
   ]
  },
  {
   "cell_type": "code",
   "execution_count": 9,
   "id": "e37c549e-bb8c-462a-b358-e7ac660d525b",
   "metadata": {},
   "outputs": [],
   "source": [
    "def generate_model(row):\n",
    "    for m in models:\n",
    "        if m.lower() in row['name'].lower():\n",
    "            return m.lower()\n",
    "    return np.nan\n",
    "\n",
    "df['model'] = df.apply(generate_model, axis=1)"
   ]
  },
  {
   "cell_type": "code",
   "execution_count": 10,
   "id": "14a44d72-7009-415a-a537-d2dc9a2add89",
   "metadata": {},
   "outputs": [],
   "source": [
    "def generate_mid_mileage(row):\n",
    "    m_split = row['mileage'].strip().split('-')\n",
    "    mid = float(m_split[0]) + (float(m_split[1]) - float(m_split[0])) / 2\n",
    "    return mid\n",
    "    \n",
    "df['mileage_mid'] = df.apply(generate_mid_mileage, axis=1)"
   ]
  },
  {
   "cell_type": "code",
   "execution_count": 12,
   "id": "fbefe246-158f-45b4-aee8-0da8efe01441",
   "metadata": {},
   "outputs": [],
   "source": [
    "df.dropna(inplace=True)"
   ]
  },
  {
   "cell_type": "code",
   "execution_count": 13,
   "id": "f4e6b26d-2d08-4d76-b78d-1335c8990d81",
   "metadata": {},
   "outputs": [],
   "source": [
    "# save into csv\n",
    "df.to_csv('honda_used_cars.csv', index=False) "
   ]
  },
  {
   "cell_type": "markdown",
   "id": "77e85794-9a2f-4bef-861c-bbbd324b87fc",
   "metadata": {},
   "source": [
    "# Stats"
   ]
  },
  {
   "cell_type": "code",
   "execution_count": 16,
   "id": "9cd4f195-a846-42c3-9b3c-fdaece408616",
   "metadata": {},
   "outputs": [
    {
     "data": {
      "text/plain": [
       "3982"
      ]
     },
     "execution_count": 16,
     "metadata": {},
     "output_type": "execute_result"
    }
   ],
   "source": [
    "len(df)"
   ]
  },
  {
   "cell_type": "code",
   "execution_count": 17,
   "id": "bfdf208e-92ec-4436-877f-d4c711473ed7",
   "metadata": {},
   "outputs": [
    {
     "data": {
      "text/plain": [
       "model\n",
       "civic        1096\n",
       "city          943\n",
       "hr-v          432\n",
       "cr-v          427\n",
       "accord        332\n",
       "jazz          310\n",
       "br-v          114\n",
       "odyssey        80\n",
       "stepwagon      80\n",
       "hybrid         35\n",
       "stream         30\n",
       "n box          28\n",
       "wr-v           27\n",
       "cr-z           22\n",
       "freed           6\n",
       "jade            5\n",
       "1300            4\n",
       "insight         4\n",
       "fit             2\n",
       "elysion         2\n",
       "integra         1\n",
       "s660            1\n",
       "shuttle         1\n",
       "Name: model, dtype: int64"
      ]
     },
     "execution_count": 17,
     "metadata": {},
     "output_type": "execute_result"
    }
   ],
   "source": [
    "# group by model\n",
    "df.groupby(['model'])['model'].count().sort_values(ascending=False)"
   ]
  },
  {
   "cell_type": "code",
   "execution_count": 18,
   "id": "b0bbce84-6884-4562-b65d-135f338ee4f9",
   "metadata": {},
   "outputs": [
    {
     "data": {
      "text/plain": [
       "location\n",
       "Selangor           1553\n",
       "Kuala Lumpur       1131\n",
       "Johor               728\n",
       "Penang              196\n",
       "Perak               135\n",
       "Kedah                52\n",
       "Sarawak              35\n",
       "Melaka               34\n",
       "Negeri Sembilan      33\n",
       "Kelantan             26\n",
       "Sabah                23\n",
       "Pahang               16\n",
       "Terengganu           11\n",
       "Perlis                5\n",
       "Putrajaya             4\n",
       "Name: location, dtype: int64"
      ]
     },
     "execution_count": 18,
     "metadata": {},
     "output_type": "execute_result"
    }
   ],
   "source": [
    "# group by location\n",
    "df.groupby(['location'])['location'].count().sort_values(ascending=False)"
   ]
  },
  {
   "cell_type": "code",
   "execution_count": 19,
   "id": "0b01d681-ef00-4384-8caf-10df84c324a4",
   "metadata": {},
   "outputs": [
    {
     "data": {
      "text/plain": [
       "year\n",
       "2018    507\n",
       "2019    452\n",
       "2017    416\n",
       "2016    385\n",
       "2020    274\n",
       "2015    273\n",
       "2021    260\n",
       "2014    234\n",
       "2022    217\n",
       "2023    171\n",
       "2013    130\n",
       "2012    103\n",
       "2024     98\n",
       "2011     92\n",
       "2010     89\n",
       "2009     62\n",
       "2008     49\n",
       "2007     34\n",
       "2006     31\n",
       "1995     21\n",
       "2004     21\n",
       "2005     21\n",
       "1997     11\n",
       "1996     10\n",
       "2003      9\n",
       "2002      3\n",
       "2000      3\n",
       "1998      3\n",
       "1999      3\n",
       "Name: year, dtype: int64"
      ]
     },
     "execution_count": 19,
     "metadata": {},
     "output_type": "execute_result"
    }
   ],
   "source": [
    "df.groupby(['year'])['year'].count().sort_values(ascending=False)"
   ]
  },
  {
   "cell_type": "code",
   "execution_count": 20,
   "id": "ad7d08af-b218-4f4d-9e07-f00c266eef16",
   "metadata": {},
   "outputs": [
    {
     "data": {
      "text/plain": [
       "mileage\n",
       "85000 - 89999      305\n",
       "80000 - 84999      298\n",
       "90000 - 94999      291\n",
       "70000 - 74999      264\n",
       "100000 - 109999    260\n",
       "95000 - 99999      216\n",
       "75000 - 79999      210\n",
       "65000 - 69999      204\n",
       "0 - 4999           203\n",
       "60000 - 64999      185\n",
       "55000 - 59999      145\n",
       "110000 - 119999    134\n",
       "120000 - 129999    119\n",
       "50000 - 54999      117\n",
       "130000 - 139999    117\n",
       "40000 - 44999       95\n",
       "30000 - 34999       89\n",
       "45000 - 49999       81\n",
       "35000 - 39999       80\n",
       "20000 - 24999       70\n",
       "140000 - 149999     70\n",
       "10000 - 14999       64\n",
       "25000 - 29999       59\n",
       "15000 - 19999       55\n",
       "150000 - 159999     49\n",
       "5000 - 9999         36\n",
       "180000 - 189999     33\n",
       "200000 - 249999     32\n",
       "160000 - 169999     31\n",
       "170000 - 179999     21\n",
       "190000 - 199999     19\n",
       "250000 - 299999     17\n",
       "300000 - 349999      9\n",
       "350000 - 399999      2\n",
       "450000 - 499999      1\n",
       "400000 - 449999      1\n",
       "Name: mileage, dtype: int64"
      ]
     },
     "execution_count": 20,
     "metadata": {},
     "output_type": "execute_result"
    }
   ],
   "source": [
    "df.groupby(['mileage'])['mileage'].count().sort_values(ascending=False)"
   ]
  },
  {
   "cell_type": "code",
   "execution_count": 21,
   "id": "3818f0e8-c724-4767-b354-ca8ad25e984c",
   "metadata": {},
   "outputs": [
    {
     "data": {
      "text/plain": [
       "np.float64(80403.19161225515)"
      ]
     },
     "execution_count": 21,
     "metadata": {},
     "output_type": "execute_result"
    }
   ],
   "source": [
    "df['mileage_mid'].mean()"
   ]
  },
  {
   "cell_type": "markdown",
   "id": "30f11ff9-1384-4839-8dc3-70048d9b847d",
   "metadata": {},
   "source": [
    "# Analysis of specific car model"
   ]
  },
  {
   "cell_type": "code",
   "execution_count": 22,
   "id": "3c685fe1-aaf3-4589-877f-270fdc1dd33e",
   "metadata": {},
   "outputs": [],
   "source": [
    "fil_df = df[(df['model'] == \"city\")]"
   ]
  },
  {
   "cell_type": "code",
   "execution_count": 28,
   "id": "b98f66d7-cefe-4138-a0d9-0179bcd7891b",
   "metadata": {},
   "outputs": [
    {
     "data": {
      "image/png": "[encoded data removed]",
      "text/plain": [
       "<Figure size 640x480 with 1 Axes>"
      ]
     },
     "metadata": {},
     "output_type": "display_data"
    }
   ],
   "source": [
    "plt.scatter(fil_df['year'].to_numpy(), fil_df['price'].to_numpy())\n",
    "plt.savefig(\"city_year_price.png\")\n",
    "plt.show()"
   ]
  },
  {
   "cell_type": "code",
   "execution_count": 25,
   "id": "8aa9a777-a75a-4b9b-9879-885ed54d26a1",
   "metadata": {},
   "outputs": [],
   "source": [
    "df_by_year = fil_df.groupby(['year'])['price'].mean()"
   ]
  },
  {
   "cell_type": "code",
   "execution_count": 26,
   "id": "9003937a-7dbb-4feb-b66d-bb7f8e2ef686",
   "metadata": {},
   "outputs": [
    {
     "data": {
      "text/plain": [
       "year\n",
       "2003     7166.666667\n",
       "2004    10615.400000\n",
       "2005    10325.000000\n",
       "2006    11282.857143\n",
       "2007    10958.000000\n",
       "2008    14324.545455\n",
       "2009    19879.823529\n",
       "2010    23070.600000\n",
       "2011    21425.035714\n",
       "2012    25946.600000\n",
       "2013    26750.607143\n",
       "2014    33745.631579\n",
       "2015    36085.243590\n",
       "2016    40813.851351\n",
       "2017    47108.523077\n",
       "2018    52446.711712\n",
       "2019    54736.940594\n",
       "2020    60900.687500\n",
       "2021    68462.500000\n",
       "2022    72479.444444\n",
       "2023    73658.739130\n",
       "2024    80210.333333\n",
       "Name: price, dtype: float64"
      ]
     },
     "execution_count": 26,
     "metadata": {},
     "output_type": "execute_result"
    }
   ],
   "source": [
    "df_by_year"
   ]
  },
  {
   "cell_type": "code",
   "execution_count": 29,
   "id": "6c8212f4-5d38-49ab-88bc-2e35303e4049",
   "metadata": {},
   "outputs": [
    {
     "data": {
      "image/png": "[encoded data removed]",
      "text/plain": [
       "<Figure size 640x480 with 1 Axes>"
      ]
     },
     "metadata": {},
     "output_type": "display_data"
    }
   ],
   "source": [
    "df_by_year.plot()\n",
    "plt.savefig(\"city_year_avg_price.png\")\n",
    "plt.show()"
   ]
  },
  {
   "cell_type": "code",
   "execution_count": 83,
   "id": "0de617d2-028f-4400-a155-6e2762fa6a93",
   "metadata": {},
   "outputs": [
    {
     "data": {
      "text/plain": [
       "PearsonRResult(statistic=np.float64(-0.7291382800748321), pvalue=np.float64(2.515141997838e-53))"
      ]
     },
     "execution_count": 83,
     "metadata": {},
     "output_type": "execute_result"
    }
   ],
   "source": [
    "pearsonr(fil_df['mileage_mid'].to_numpy(), fil_df['price'].to_numpy())"
   ]
  },
  {
   "cell_type": "code",
   "execution_count": 84,
   "id": "3ce6c632-408b-4d93-8a0e-c675cc88f869",
   "metadata": {},
   "outputs": [
    {
     "data": {
      "text/plain": [
       "SignificanceResult(statistic=np.float64(-0.7994407725491065), pvalue=np.float64(5.038054432193059e-71))"
      ]
     },
     "execution_count": 84,
     "metadata": {},
     "output_type": "execute_result"
    }
   ],
   "source": [
    "spearmanr(fil_df['mileage_mid'].to_numpy(), fil_df['price'].to_numpy())"
   ]
  },
  {
   "cell_type": "code",
   "execution_count": 37,
   "id": "6ab2f09a-81cf-485d-a7ed-c92ca692d06a",
   "metadata": {},
   "outputs": [
    {
     "data": {
      "text/plain": [
       "PearsonRResult(statistic=np.float64(0.9552967062481638), pvalue=np.float64(3.600692736434579e-167))"
      ]
     },
     "execution_count": 37,
     "metadata": {},
     "output_type": "execute_result"
    }
   ],
   "source": [
    "pearsonr(fil_df['year'].to_numpy(), fil_df['price'].to_numpy())"
   ]
  },
  {
   "cell_type": "code",
   "execution_count": 38,
   "id": "be2627c0-27dc-49a1-9674-fbea2f7a751c",
   "metadata": {},
   "outputs": [
    {
     "data": {
      "text/plain": [
       "SignificanceResult(statistic=np.float64(0.9645924163599529), pvalue=np.float64(1.2011384034628273e-182))"
      ]
     },
     "execution_count": 38,
     "metadata": {},
     "output_type": "execute_result"
    }
   ],
   "source": [
    "spearmanr(fil_df['year'].to_numpy(), fil_df['price'].to_numpy())"
   ]
  },
  {
   "cell_type": "markdown",
   "id": "fe200628-f761-4d81-b90d-65219f1888bc",
   "metadata": {},
   "source": [
    "# Predictive modelling"
   ]
  },
  {
   "cell_type": "markdown",
   "id": "14ce6c73-136e-4ac0-9d19-ffae2f81a1bd",
   "metadata": {},
   "source": [
    "## Feature engineering"
   ]
  },
  {
   "cell_type": "code",
   "execution_count": 30,
   "id": "413614aa-dedd-4de9-81a6-e96729708fe9",
   "metadata": {},
   "outputs": [],
   "source": [
    "from sklearn.preprocessing import OneHotEncoder\n",
    "from sklearn.linear_model import LinearRegression\n",
    "from sklearn.ensemble import AdaBoostRegressor\n",
    "from sklearn.metrics import mean_absolute_error\n",
    "from sklearn.neural_network import MLPRegressor\n",
    "from sklearn.model_selection import train_test_split"
   ]
  },
  {
   "cell_type": "code",
   "execution_count": 31,
   "id": "0824f788-d1cf-48e0-b4e0-c7204c1fc5bb",
   "metadata": {},
   "outputs": [],
   "source": [
    "one_hot_encoder = OneHotEncoder()\n",
    "\n",
    "locations = df['location'].unique()\n",
    "locations = locations.reshape(-1, 1)\n",
    "location_idx_map = {}\n",
    "\n",
    "for i in range(locations.shape[0]):\n",
    "    location_idx_map[locations[i][0]] = i\n",
    "\n",
    "loc_features = one_hot_encoder.fit_transform(locations).toarray()"
   ]
  },
  {
   "cell_type": "code",
   "execution_count": 32,
   "id": "d90542aa-4e66-4587-8db0-5260f4cd626b",
   "metadata": {},
   "outputs": [],
   "source": [
    "car_models = df['model'].unique()\n",
    "car_models = car_models.reshape(-1, 1)\n",
    "model_idx_map = {}\n",
    "\n",
    "for i in range(car_models.shape[0]):\n",
    "    model_idx_map[car_models[i][0]] = i\n",
    "\n",
    "model_features = one_hot_encoder.fit_transform(car_models).toarray()"
   ]
  },
  {
   "cell_type": "code",
   "execution_count": 72,
   "id": "e0b9a511-f52f-4747-bfff-797a7ae4e483",
   "metadata": {},
   "outputs": [],
   "source": [
    "features = []\n",
    "price_labels = []\n",
    "\n",
    "for i in range(len(df)):\n",
    "    loc_raw = df['location'].iloc[i]\n",
    "    loc = loc_features[location_idx_map[loc_raw]]\n",
    "    model_raw = df['model'].iloc[i]\n",
    "    model = model_features[model_idx_map[model_raw]]\n",
    "    year = np.array([df['year'].iloc[i]])\n",
    "    mileage = np.array([df['mileage_mid'].iloc[i]])\n",
    "    \n",
    "    single_feat = np.concatenate((model, loc, year, mileage), axis=0)\n",
    " \n",
    "    features.append(single_feat)\n",
    "    price_labels.append(df['price'].iloc[i])\n",
    "\n",
    "features = np.array(features, dtype=np.float32)\n",
    "price_labels = np.array(price_labels, dtype=np.float32)\n",
    "\n",
    "train_features, test_features, train_labels, test_labels = train_test_split(features, price_labels, test_size=0.2, random_state=42)"
   ]
  },
  {
   "cell_type": "markdown",
   "id": "2f6b41eb-3d49-41c0-b342-a82eb9a9c6d5",
   "metadata": {},
   "source": [
    "## Training and evaluation"
   ]
  },
  {
   "cell_type": "markdown",
   "id": "efee09d4-1235-4431-83e9-758c0736ac2e",
   "metadata": {},
   "source": [
    "### Linear regression"
   ]
  },
  {
   "cell_type": "code",
   "execution_count": 73,
   "id": "3a52d545-b5c1-4781-b21d-e2cdf311fa95",
   "metadata": {},
   "outputs": [
    {
     "name": "stdout",
     "output_type": "stream",
     "text": [
      "MAE: 21466.168\n"
     ]
    }
   ],
   "source": [
    "linear_reg = LinearRegression()\n",
    "linear_reg.fit(train_features, train_labels)\n",
    "\n",
    "test_preds = linear_reg.predict(test_features)\n",
    "mae = mean_absolute_error(test_preds, test_labels)\n",
    "print(\"MAE:\", mae)"
   ]
  },
  {
   "cell_type": "markdown",
   "id": "5cff942d-5b34-47a4-a714-45cd542e574f",
   "metadata": {},
   "source": [
    "### AdaBoost"
   ]
  },
  {
   "cell_type": "code",
   "execution_count": 74,
   "id": "9312a62f-ab23-40fd-a16d-e24c1e7b34f3",
   "metadata": {},
   "outputs": [
    {
     "name": "stdout",
     "output_type": "stream",
     "text": [
      "MAE: 18247.299575877303\n"
     ]
    }
   ],
   "source": [
    "adaboost = AdaBoostRegressor(random_state=0, n_estimators=10)\n",
    "adaboost.fit(train_features, train_labels)\n",
    "\n",
    "test_preds = adaboost.predict(test_features)\n",
    "mae = mean_absolute_error(test_preds, test_labels)\n",
    "print(\"MAE:\", mae)"
   ]
  },
  {
   "cell_type": "markdown",
   "id": "16c4dcbe-35f7-4289-9967-c27dc9023205",
   "metadata": {},
   "source": [
    "### Neural network"
   ]
  },
  {
   "cell_type": "code",
   "execution_count": 76,
   "id": "6d3069c9-eb8f-4aa7-911a-7accb56c1488",
   "metadata": {},
   "outputs": [
    {
     "name": "stdout",
     "output_type": "stream",
     "text": [
      "MAE: 25437.25\n"
     ]
    }
   ],
   "source": [
    "mlp = MLPRegressor(random_state=0, max_iter=300)\n",
    "mlp.fit(train_features, train_labels)\n",
    "\n",
    "test_preds = mlp.predict(test_features)\n",
    "mae = mean_absolute_error(test_preds, test_labels)\n",
    "print(\"MAE:\", mae)"
   ]
  },
  {
   "cell_type": "code",
   "execution_count": null,
   "id": "cb85f24a-8c5a-402f-bcda-8f37cc0f358d",
   "metadata": {},
   "outputs": [],
   "source": []
  }
 ],
 "metadata": {
  "kernelspec": {
   "display_name": "Python 3 (ipykernel)",
   "language": "python",
   "name": "python3"
  },
  "language_info": {
   "codemirror_mode": {
    "name": "ipython",
    "version": 3
   },
   "file_extension": ".py",
   "mimetype": "text/x-python",
   "name": "python",
   "nbconvert_exporter": "python",
   "pygments_lexer": "ipython3",
   "version": "3.12.4"
  }
 },
 "nbformat": 4,
 "nbformat_minor": 5
}
