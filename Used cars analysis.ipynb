{
 "cells": [
  {
   "cell_type": "code",
   "execution_count": 225,
   "id": "10a7e5e5-7641-4fbd-be14-fbd7153c6a8c",
   "metadata": {},
   "outputs": [],
   "source": [
    "from bs4 import BeautifulSoup\n",
    "from urllib.request import Request, urlopen\n",
    "import json\n",
    "import pickle\n",
    "import pandas as pd\n",
    "import re\n",
    "import matplotlib.pyplot as plt\n",
    "import numpy as np\n",
    "import json"
   ]
  },
  {
   "cell_type": "code",
   "execution_count": 2,
   "id": "7d5c7880-69c2-4a9d-83d2-470eaed26f4f",
   "metadata": {},
   "outputs": [],
   "source": [
    "headers = {'User-Agent': \"Mozilla/5.0 (Linux; SM-G955U Build/R16NW) AppleWebKit/537.36 (KHTML, like Gecko) Chrome/116.0.0.0\"}"
   ]
  },
  {
   "cell_type": "code",
   "execution_count": 265,
   "id": "8713e262-25f0-4049-8a7c-cea23efad357",
   "metadata": {},
   "outputs": [
    {
     "ename": "NameError",
     "evalue": "name 'model_id' is not defined",
     "output_type": "error",
     "traceback": [
      "\u001b[1;31m---------------------------------------------------------------------------\u001b[0m",
      "\u001b[1;31mNameError\u001b[0m                                 Traceback (most recent call last)",
      "Cell \u001b[1;32mIn[265], line 1\u001b[0m\n\u001b[1;32m----> 1\u001b[0m \u001b[43mmodel_id\u001b[49m\u001b[38;5;241m-\u001b[39m\u001b[38;5;28mfilter\u001b[39m\u001b[38;5;241m-\u001b[39mdropdown\n",
      "\u001b[1;31mNameError\u001b[0m: name 'model_id' is not defined"
     ]
    }
   ],
   "source": [
    "model_id-filter-dropdown"
   ]
  },
  {
   "cell_type": "code",
   "execution_count": 266,
   "id": "0fa84ae7-a5d9-4bcf-b88f-43a08ff32837",
   "metadata": {},
   "outputs": [],
   "source": [
    "html_file = open(\"page_2.html\", \"r\", encoding=\"utf-8\")\n",
    "html_value = html_file.read()\n",
    "soup = BeautifulSoup(html_value, \"html.parser\")\n",
    "models_soup = soup.find('ul', {'data-testid' : 'model_id-filter-dropdown'})"
   ]
  },
  {
   "cell_type": "code",
   "execution_count": 271,
   "id": "609e2c03-81d0-4df5-a37f-5ff788ebc079",
   "metadata": {},
   "outputs": [],
   "source": [
    "m = models_soup.find_all('li')"
   ]
  },
  {
   "cell_type": "code",
   "execution_count": 272,
   "id": "ae1f40cc-4564-481d-8959-715f97ab7b4d",
   "metadata": {},
   "outputs": [
    {
     "data": {
      "text/plain": [
       "73"
      ]
     },
     "execution_count": 272,
     "metadata": {},
     "output_type": "execute_result"
    }
   ],
   "source": [
    "len(m)"
   ]
  },
  {
   "cell_type": "code",
   "execution_count": 273,
   "id": "97d94f37-4143-4a79-abc4-5822676f3fd1",
   "metadata": {},
   "outputs": [
    {
     "data": {
      "text/plain": [
       "[<li>Model</li>,\n",
       " <li>1300</li>,\n",
       " <li>145</li>,\n",
       " <li>Accord</li>,\n",
       " <li>Acty Truck</li>,\n",
       " <li>Acty Van</li>,\n",
       " <li>Airwave</li>,\n",
       " <li>Ascot</li>,\n",
       " <li>Avancier</li>,\n",
       " <li>Ballade</li>,\n",
       " <li>Beat</li>,\n",
       " <li>BR-V</li>,\n",
       " <li>Capa</li>,\n",
       " <li>City</li>,\n",
       " <li>Civic</li>,\n",
       " <li>Civic Type R</li>,\n",
       " <li>Concerto</li>,\n",
       " <li>CR-V</li>,\n",
       " <li>CR-X</li>,\n",
       " <li>CR-Z</li>,\n",
       " <li>Crossroad</li>,\n",
       " <li>Domani</li>,\n",
       " <li>E</li>,\n",
       " <li>Edix</li>,\n",
       " <li>Element</li>,\n",
       " <li>Elysion</li>,\n",
       " <li>Fit</li>,\n",
       " <li>Freed</li>,\n",
       " <li>Horizon</li>,\n",
       " <li>HR-V</li>,\n",
       " <li>Hybrid</li>,\n",
       " <li>Insight</li>,\n",
       " <li>Inspire</li>,\n",
       " <li>Integra</li>,\n",
       " <li>Integra Type R</li>,\n",
       " <li>Jade</li>,\n",
       " <li>Jazz</li>,\n",
       " <li>Jazz Hybrid</li>,\n",
       " <li>Lagreat</li>,\n",
       " <li>Legend</li>,\n",
       " <li>Life</li>,\n",
       " <li>Logo</li>,\n",
       " <li>MDX</li>,\n",
       " <li>Mobilio</li>,\n",
       " <li>N BOX</li>,\n",
       " <li>N-One</li>,\n",
       " <li>N360</li>,\n",
       " <li>N-Van</li>,\n",
       " <li>NSX</li>,\n",
       " <li>Odyssey</li>,\n",
       " <li>Orthia</li>,\n",
       " <li>Pertner</li>,\n",
       " <li>Prelude</li>,\n",
       " <li>Quint</li>,\n",
       " <li>Rafaga</li>,\n",
       " <li>S-MX</li>,\n",
       " <li>S2000</li>,\n",
       " <li>S500</li>,\n",
       " <li>S600</li>,\n",
       " <li>S660</li>,\n",
       " <li>S800</li>,\n",
       " <li>Saber</li>,\n",
       " <li>Shuttle</li>,\n",
       " <li>Stepwagon</li>,\n",
       " <li>Stream</li>,\n",
       " <li>Street</li>,\n",
       " <li>Today</li>,\n",
       " <li>Torneo</li>,\n",
       " <li>Vanos</li>,\n",
       " <li>Vigor</li>,\n",
       " <li>WR-V</li>,\n",
       " <li>Z</li>,\n",
       " <li>Zest</li>]"
      ]
     },
     "execution_count": 273,
     "metadata": {},
     "output_type": "execute_result"
    }
   ],
   "source": [
    "m"
   ]
  },
  {
   "cell_type": "code",
   "execution_count": null,
   "id": "b083340e-aab1-4913-801f-1ba1e11b9ade",
   "metadata": {},
   "outputs": [],
   "source": [
    "i = 4\n",
    "while i > 0:\n",
    "    url = f\"https://www.mudah.my/malaysia/cars-for-sale/honda?o={i}\"\n",
    "    req = Request(url, headers=headers)\n",
    "    res = urlopen(req).read()\n",
    "    soup = BeautifulSoup(res, \"html.parser\")\n",
    "    regex = re.compile('listing-ad-item.*')\n",
    "    car_list = soup.find_all('div', {'data-testid' : regex})\n",
    "    \n",
    "    if len(car_list) > 0:\n",
    "        f = open(f\"page_{i}.html\", \"w\", encoding=\"utf-8\")\n",
    "        f.write(str(soup))\n",
    "        f.close()\n",
    "        print(f\"page {i} is saved; count: {len(car_list)}\")\n",
    "    else:\n",
    "        break\n",
    "    i += 1"
   ]
  },
  {
   "cell_type": "code",
   "execution_count": 184,
   "id": "f712f40b-8009-4a0b-8882-e80e4aa2ebd3",
   "metadata": {},
   "outputs": [],
   "source": []
  },
  {
   "cell_type": "code",
   "execution_count": 192,
   "id": "136b9bce-19a9-42e2-a8b3-4445c17e267e",
   "metadata": {},
   "outputs": [],
   "source": []
  },
  {
   "cell_type": "code",
   "execution_count": 203,
   "id": "df2df6ed-7709-4c29-8087-84d6888e36f7",
   "metadata": {},
   "outputs": [],
   "source": [
    "data = []\n",
    "num_pages = 32\n",
    "car_regex = re.compile('listing-ad-item.*')\n",
    "\n",
    "for page in range(1, num_pages):\n",
    "    html_file = open(f\"page_{page}.html\", \"r\", encoding=\"utf-8\")\n",
    "    html_value = html_file.read()\n",
    "    soup = BeautifulSoup(html_value, \"html.parser\")\n",
    "    \n",
    "    car_soup_1 = soup.find_all('div', {'data-testid' : car_regex})\n",
    "    car_soup_2 = soup.find('script', {'type' : 'application/ld+json'})\n",
    "    cars_json = json.loads(car_soup_2.text)\n",
    "    car_list = cars_json[2]['itemListElement']\n",
    "\n",
    "    assert len(car_soup_1) == cars_json[2]['numberOfItems']\n",
    "\n",
    "    for i in range(len(car_soup_1)):\n",
    "        url = get_url(car_soup_1[i])\n",
    "\n",
    "        assert url == car_list[i]['item']['url']\n",
    "        \n",
    "        year = get_year(car_soup_1[i])\n",
    "        mileage = get_mileage(car_soup_1[i])\n",
    "        price = car_list[i]['item']['offers']['price']\n",
    "        name = get_name(car_soup_1[i])\n",
    "        loc = get_location(car_soup_1[i])\n",
    "        url = get_url(car_soup_1[i])\n",
    "\n",
    "        row = {\n",
    "            \"year\": year,\n",
    "            \"name\": name,\n",
    "            \"price\": price,\n",
    "            \"mileage\": mileage,\n",
    "            \"location\": loc,\n",
    "            \"page\": page,\n",
    "            \"url\": url,\n",
    "        }\n",
    "        data.append(row)\n",
    "\n",
    "    "
   ]
  },
  {
   "cell_type": "code",
   "execution_count": 253,
   "id": "339436a4-8640-4883-8843-5dc95b093d87",
   "metadata": {},
   "outputs": [],
   "source": [
    "df = pd.DataFrame(data)\n",
    "convert_dict = {'year': int, 'price': float}\n",
    "df = df.astype(convert_dict)"
   ]
  },
  {
   "cell_type": "code",
   "execution_count": 254,
   "id": "27ede51a-150a-4d25-af4b-ab3bf0fd94a8",
   "metadata": {},
   "outputs": [
    {
     "data": {
      "text/html": [
       "<div>\n",
       "<style scoped>\n",
       "    .dataframe tbody tr th:only-of-type {\n",
       "        vertical-align: middle;\n",
       "    }\n",
       "\n",
       "    .dataframe tbody tr th {\n",
       "        vertical-align: top;\n",
       "    }\n",
       "\n",
       "    .dataframe thead th {\n",
       "        text-align: right;\n",
       "    }\n",
       "</style>\n",
       "<table border=\"1\" class=\"dataframe\">\n",
       "  <thead>\n",
       "    <tr style=\"text-align: right;\">\n",
       "      <th></th>\n",
       "      <th>year</th>\n",
       "      <th>name</th>\n",
       "      <th>price</th>\n",
       "      <th>mileage</th>\n",
       "      <th>location</th>\n",
       "      <th>page</th>\n",
       "      <th>url</th>\n",
       "    </tr>\n",
       "  </thead>\n",
       "  <tbody>\n",
       "    <tr>\n",
       "      <th>0</th>\n",
       "      <td>2023</td>\n",
       "      <td>2023 Honda CIVIC 2.0 TYPE R MY23 FL5 (M)</td>\n",
       "      <td>298000.0</td>\n",
       "      <td>10000 - 14999</td>\n",
       "      <td>Kuala Lumpur</td>\n",
       "      <td>1</td>\n",
       "      <td>https://www.mudah.my/2023-honda-civic-2-0-type...</td>\n",
       "    </tr>\n",
       "    <tr>\n",
       "      <th>1</th>\n",
       "      <td>2014</td>\n",
       "      <td>2014 Honda CITY 1.5 E FACELIFT (A) FULL ACCESSORY</td>\n",
       "      <td>33900.0</td>\n",
       "      <td>90000 - 94999</td>\n",
       "      <td>Penang</td>\n",
       "      <td>1</td>\n",
       "      <td>https://www.mudah.my/2014-honda-city-1-5-e-fac...</td>\n",
       "    </tr>\n",
       "    <tr>\n",
       "      <th>2</th>\n",
       "      <td>2019</td>\n",
       "      <td>2019 Honda CITY 1.5 (A) PRICE CORET UNTUNG 1K JA</td>\n",
       "      <td>49900.0</td>\n",
       "      <td>60000 - 64999</td>\n",
       "      <td>Penang</td>\n",
       "      <td>1</td>\n",
       "      <td>https://www.mudah.my/2019-honda-city-1-5-a-pri...</td>\n",
       "    </tr>\n",
       "    <tr>\n",
       "      <th>3</th>\n",
       "      <td>2015</td>\n",
       "      <td>2015 Honda HR-V 1.8 V (A) KEYLESS PUSHSTART F/...</td>\n",
       "      <td>41800.0</td>\n",
       "      <td>130000 - 139999</td>\n",
       "      <td>Kuala Lumpur</td>\n",
       "      <td>1</td>\n",
       "      <td>https://www.mudah.my/2015-honda-hr-v-1-8-v-a-k...</td>\n",
       "    </tr>\n",
       "    <tr>\n",
       "      <th>4</th>\n",
       "      <td>2018</td>\n",
       "      <td>2018 Honda CITY 1.5 HYB (A) 3YRS WARRANTY H/LOAN</td>\n",
       "      <td>45999.0</td>\n",
       "      <td>55000 - 59999</td>\n",
       "      <td>Johor</td>\n",
       "      <td>1</td>\n",
       "      <td>https://www.mudah.my/2018-honda-city-1-5-hyb-a...</td>\n",
       "    </tr>\n",
       "    <tr>\n",
       "      <th>...</th>\n",
       "      <td>...</td>\n",
       "      <td>...</td>\n",
       "      <td>...</td>\n",
       "      <td>...</td>\n",
       "      <td>...</td>\n",
       "      <td>...</td>\n",
       "      <td>...</td>\n",
       "    </tr>\n",
       "    <tr>\n",
       "      <th>1235</th>\n",
       "      <td>2015</td>\n",
       "      <td>2015 Honda CITY 1.5 S (A) 2Y WARRANTY 1 LADY O...</td>\n",
       "      <td>29888.0</td>\n",
       "      <td>90000 - 94999</td>\n",
       "      <td>Selangor</td>\n",
       "      <td>31</td>\n",
       "      <td>https://www.mudah.my/2015-honda-city-1-5-s-a-2...</td>\n",
       "    </tr>\n",
       "    <tr>\n",
       "      <th>1236</th>\n",
       "      <td>2022</td>\n",
       "      <td>2022 Honda CITY 1.5 V (A) WARRANTY FULL SERVICE</td>\n",
       "      <td>66888.0</td>\n",
       "      <td>40000 - 44999</td>\n",
       "      <td>Selangor</td>\n",
       "      <td>31</td>\n",
       "      <td>https://www.mudah.my/2022-honda-city-1-5-v-a-w...</td>\n",
       "    </tr>\n",
       "    <tr>\n",
       "      <th>1237</th>\n",
       "      <td>2024</td>\n",
       "      <td>2024 CITY S,E,V, RS PETROL ,RS eHEV HIGH REBATE</td>\n",
       "      <td>77900.0</td>\n",
       "      <td>0 - 4999</td>\n",
       "      <td>Selangor</td>\n",
       "      <td>31</td>\n",
       "      <td>https://www.mudah.my/2024-city-s-e-v-rs-petrol...</td>\n",
       "    </tr>\n",
       "    <tr>\n",
       "      <th>1238</th>\n",
       "      <td>2024</td>\n",
       "      <td>2024 City 1.5 HATCHBACK S,E,V,RS, EHEV ready s...</td>\n",
       "      <td>82900.0</td>\n",
       "      <td>0 - 4999</td>\n",
       "      <td>Kuala Lumpur</td>\n",
       "      <td>31</td>\n",
       "      <td>https://www.mudah.my/2024-city-1-5-hatchback-s...</td>\n",
       "    </tr>\n",
       "    <tr>\n",
       "      <th>1239</th>\n",
       "      <td>2024</td>\n",
       "      <td>2024 HR-V S,E,V,RS READY STOCK, HIGH Rebate !</td>\n",
       "      <td>115900.0</td>\n",
       "      <td>0 - 4999</td>\n",
       "      <td>Selangor</td>\n",
       "      <td>31</td>\n",
       "      <td>https://www.mudah.my/2024-hr-v-s-e-v-rs-ready-...</td>\n",
       "    </tr>\n",
       "  </tbody>\n",
       "</table>\n",
       "<p>1240 rows × 7 columns</p>\n",
       "</div>"
      ],
      "text/plain": [
       "      year                                               name     price  \\\n",
       "0     2023           2023 Honda CIVIC 2.0 TYPE R MY23 FL5 (M)  298000.0   \n",
       "1     2014  2014 Honda CITY 1.5 E FACELIFT (A) FULL ACCESSORY   33900.0   \n",
       "2     2019   2019 Honda CITY 1.5 (A) PRICE CORET UNTUNG 1K JA   49900.0   \n",
       "3     2015  2015 Honda HR-V 1.8 V (A) KEYLESS PUSHSTART F/...   41800.0   \n",
       "4     2018   2018 Honda CITY 1.5 HYB (A) 3YRS WARRANTY H/LOAN   45999.0   \n",
       "...    ...                                                ...       ...   \n",
       "1235  2015  2015 Honda CITY 1.5 S (A) 2Y WARRANTY 1 LADY O...   29888.0   \n",
       "1236  2022    2022 Honda CITY 1.5 V (A) WARRANTY FULL SERVICE   66888.0   \n",
       "1237  2024    2024 CITY S,E,V, RS PETROL ,RS eHEV HIGH REBATE   77900.0   \n",
       "1238  2024  2024 City 1.5 HATCHBACK S,E,V,RS, EHEV ready s...   82900.0   \n",
       "1239  2024      2024 HR-V S,E,V,RS READY STOCK, HIGH Rebate !  115900.0   \n",
       "\n",
       "              mileage      location  page  \\\n",
       "0       10000 - 14999  Kuala Lumpur     1   \n",
       "1       90000 - 94999        Penang     1   \n",
       "2       60000 - 64999        Penang     1   \n",
       "3     130000 - 139999  Kuala Lumpur     1   \n",
       "4       55000 - 59999         Johor     1   \n",
       "...               ...           ...   ...   \n",
       "1235    90000 - 94999      Selangor    31   \n",
       "1236    40000 - 44999      Selangor    31   \n",
       "1237         0 - 4999      Selangor    31   \n",
       "1238         0 - 4999  Kuala Lumpur    31   \n",
       "1239         0 - 4999      Selangor    31   \n",
       "\n",
       "                                                    url  \n",
       "0     https://www.mudah.my/2023-honda-civic-2-0-type...  \n",
       "1     https://www.mudah.my/2014-honda-city-1-5-e-fac...  \n",
       "2     https://www.mudah.my/2019-honda-city-1-5-a-pri...  \n",
       "3     https://www.mudah.my/2015-honda-hr-v-1-8-v-a-k...  \n",
       "4     https://www.mudah.my/2018-honda-city-1-5-hyb-a...  \n",
       "...                                                 ...  \n",
       "1235  https://www.mudah.my/2015-honda-city-1-5-s-a-2...  \n",
       "1236  https://www.mudah.my/2022-honda-city-1-5-v-a-w...  \n",
       "1237  https://www.mudah.my/2024-city-s-e-v-rs-petrol...  \n",
       "1238  https://www.mudah.my/2024-city-1-5-hatchback-s...  \n",
       "1239  https://www.mudah.my/2024-hr-v-s-e-v-rs-ready-...  \n",
       "\n",
       "[1240 rows x 7 columns]"
      ]
     },
     "execution_count": 254,
     "metadata": {},
     "output_type": "execute_result"
    }
   ],
   "source": [
    "df"
   ]
  },
  {
   "cell_type": "code",
   "execution_count": 27,
   "id": "ad4f8d2c-6a36-4aed-bdb4-88ddafcef97e",
   "metadata": {},
   "outputs": [],
   "source": [
    "def get_year(car_soup):\n",
    "    try:\n",
    "        content = car_soup.find('div', {'title' : 'Manufactured Year'})\n",
    "        year = content.find(\"div\").text\n",
    "        return year\n",
    "    except:\n",
    "        try:\n",
    "            content = car_soup.find('div', {'data-testid' : 'year-verified-badge'})\n",
    "            year = content.find(\"div\").text\n",
    "            return year\n",
    "        except:\n",
    "            pass\n",
    "    return None"
   ]
  },
  {
   "cell_type": "code",
   "execution_count": 60,
   "id": "ff1c3efa-75d0-4182-bda1-2e96980ec503",
   "metadata": {},
   "outputs": [],
   "source": [
    "def get_mileage(car_soup):\n",
    "    try:\n",
    "        mileage = car_soup.find('div', {'title' : 'Mileage'})\n",
    "        m = mileage.find(\"div\").text\n",
    "        return m\n",
    "    except:\n",
    "        return None"
   ]
  },
  {
   "cell_type": "code",
   "execution_count": 202,
   "id": "658c672d-0272-438a-8ade-e1fc29ddc9b7",
   "metadata": {},
   "outputs": [],
   "source": [
    "def get_name(car_soup):\n",
    "    name = car_soup.find('a')\n",
    "    if name:\n",
    "        return name['title']\n",
    "    return None"
   ]
  },
  {
   "cell_type": "code",
   "execution_count": 143,
   "id": "32a77d1c-b56b-4e3b-8f34-2aac12374221",
   "metadata": {},
   "outputs": [],
   "source": [
    "def get_url(car_soup):\n",
    "    name = car_soup.find('a')\n",
    "    if name:\n",
    "        return name['href']\n",
    "    return None"
   ]
  },
  {
   "cell_type": "code",
   "execution_count": 100,
   "id": "43cbf3c6-b17f-4c91-9042-1e39513d9866",
   "metadata": {},
   "outputs": [],
   "source": [
    "def get_location(car_soup):\n",
    "    c = car_soup.find('span', {'title' : 'Region'})\n",
    "    if c:\n",
    "        r = c.find(\"span\")\n",
    "        return r.text\n",
    "    return None"
   ]
  },
  {
   "cell_type": "code",
   "execution_count": 263,
   "id": "e37c549e-bb8c-462a-b358-e7ac660d525b",
   "metadata": {},
   "outputs": [],
   "source": [
    "model_name = \"city\"\n",
    "\n",
    "def get_model(row):\n",
    "    if model_name in row['name'].lower():\n",
    "        return model_name\n",
    "    return None\n",
    "\n",
    "df['model'] = df.apply(get_model, axis=1)\n",
    "fil_df = df[(df['model'] == model_name)]"
   ]
  },
  {
   "cell_type": "code",
   "execution_count": null,
   "id": "3c685fe1-aaf3-4589-877f-270fdc1dd33e",
   "metadata": {},
   "outputs": [],
   "source": []
  },
  {
   "cell_type": "code",
   "execution_count": 264,
   "id": "b98f66d7-cefe-4138-a0d9-0179bcd7891b",
   "metadata": {},
   "outputs": [
    {
     "data": {
      "image/png": "[encoded data removed]",
      "text/plain": [
       "<Figure size 640x480 with 1 Axes>"
      ]
     },
     "metadata": {},
     "output_type": "display_data"
    }
   ],
   "source": [
    "plt.scatter(fil_df['year'].to_numpy(), fil_df['price'].to_numpy())\n",
    "plt.show()"
   ]
  },
  {
   "cell_type": "code",
   "execution_count": 277,
   "id": "44568ee7-47e1-47c2-94d2-b09244c14224",
   "metadata": {},
   "outputs": [],
   "source": [
    "from scipy.stats import pearsonr, spearmanr"
   ]
  },
  {
   "cell_type": "code",
   "execution_count": 276,
   "id": "6ab2f09a-81cf-485d-a7ed-c92ca692d06a",
   "metadata": {},
   "outputs": [
    {
     "data": {
      "text/plain": [
       "PearsonRResult(statistic=np.float64(0.9552967062481638), pvalue=np.float64(3.600692736434579e-167))"
      ]
     },
     "execution_count": 276,
     "metadata": {},
     "output_type": "execute_result"
    }
   ],
   "source": [
    "pearsonr(fil_df['year'].to_numpy(), fil_df['price'].to_numpy())"
   ]
  },
  {
   "cell_type": "code",
   "execution_count": 278,
   "id": "be2627c0-27dc-49a1-9674-fbea2f7a751c",
   "metadata": {},
   "outputs": [
    {
     "data": {
      "text/plain": [
       "SignificanceResult(statistic=np.float64(0.9645924163599529), pvalue=np.float64(1.2011384034628273e-182))"
      ]
     },
     "execution_count": 278,
     "metadata": {},
     "output_type": "execute_result"
    }
   ],
   "source": [
    "spearmanr(fil_df['year'].to_numpy(), fil_df['price'].to_numpy())"
   ]
  },
  {
   "cell_type": "code",
   "execution_count": null,
   "id": "6b3f14c4-df8e-4877-b806-c9d2937bf928",
   "metadata": {},
   "outputs": [],
   "source": []
  }
 ],
 "metadata": {
  "kernelspec": {
   "display_name": "Python 3 (ipykernel)",
   "language": "python",
   "name": "python3"
  },
  "language_info": {
   "codemirror_mode": {
    "name": "ipython",
    "version": 3
   },
   "file_extension": ".py",
   "mimetype": "text/x-python",
   "name": "python",
   "nbconvert_exporter": "python",
   "pygments_lexer": "ipython3",
   "version": "3.12.4"
  }
 },
 "nbformat": 4,
 "nbformat_minor": 5
}
